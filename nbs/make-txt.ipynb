{
 "cells": [
  {
   "cell_type": "code",
   "execution_count": null,
   "id": "db78faf7-4e78-442e-9584-5c4e442f8a69",
   "metadata": {},
   "outputs": [],
   "source": [
    "import pandas as pd\n",
    "import os\n",
    "from tqdm import tqdm"
   ]
  },
  {
   "cell_type": "code",
   "execution_count": null,
   "id": "ff078339-77a1-41ae-bc42-dbf4f8d207ef",
   "metadata": {},
   "outputs": [],
   "source": [
    "df = {\n",
    "    'train': [],\n",
    "    'valid': [],\n",
    "    'test': []\n",
    "}\n",
    "\n",
    "for splitname in ['train', 'valid', 'test']:\n",
    "    data = open(os.path.join('./data', f'{splitname}.csv')).readlines()\n",
    "    columns = [(i, c) for i, c in enumerate(data[0].strip().split(','))]\n",
    "    print(columns)\n",
    "\n",
    "    error = 0\n",
    "    for i in range(1, len(data)):\n",
    "        cparts = data[i - 1].strip().split(',')\n",
    "        sparts = data[i].strip().split(',')\n",
    "        if cparts[0] == sparts[0]:\n",
    "            try:\n",
    "                prevsent = cparts[5].replace('_comma_', ',')\n",
    "                sent = sparts[5].replace('_comma_', ',')\n",
    "                rates = sparts[6].strip().split('_')\n",
    "\n",
    "                a_rate = int([rate.strip() for rate in rates[0].split('|')][0])\n",
    "                b_rate = int([rate.strip() for rate in rates[1].split('|')][0])\n",
    "                df[splitname].append((prevsent, sent, (a_rate + b_rate) / 2))\n",
    "            except:\n",
    "                error += 1\n",
    "                pass\n",
    "    df[splitname] = pd.DataFrame(data=df[splitname], columns=['text_a', 'text_b', 'labels'])"
   ]
  },
  {
   "cell_type": "code",
   "execution_count": null,
   "id": "5a7f6580-a6e0-41ea-bfd8-90b886a914e1",
   "metadata": {},
   "outputs": [],
   "source": [
    "for splitname in ['train', 'valid', 'test']:\n",
    "    df[splitname]['text'] = df[splitname]['text_a'] + ' ' + df[splitname]['text_b'] + '\\n'\n",
    "    empathy_str = \" <|endoftext|> \".join(df[splitname]['text'].tolist())\n",
    "\n",
    "    with open (f'./data/{splitname}.txt', 'w') as f:\n",
    "        f.write(empathy_str)"
   ]
  }
 ],
 "metadata": {
  "kernelspec": {
   "display_name": "Python 3",
   "language": "python",
   "name": "python3"
  },
  "language_info": {
   "codemirror_mode": {
    "name": "ipython",
    "version": 3
   },
   "file_extension": ".py",
   "mimetype": "text/x-python",
   "name": "python",
   "nbconvert_exporter": "python",
   "pygments_lexer": "ipython3",
   "version": "3.8.5"
  }
 },
 "nbformat": 4,
 "nbformat_minor": 5
}
